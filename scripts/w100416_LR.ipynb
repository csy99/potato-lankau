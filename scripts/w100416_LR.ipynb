{
 "cells": [
  {
   "cell_type": "code",
   "execution_count": 1,
   "metadata": {},
   "outputs": [],
   "source": [
    "import numpy as np\n",
    "import pandas as pd\n",
    "import matplotlib.pyplot as plt\n",
    "import seaborn as sns\n",
    "import importlib\n",
    "\n",
    "import matplotlib \n",
    "matplotlib.rc('xtick', labelsize=15) \n",
    "matplotlib.rc('ytick', labelsize=15) \n",
    "%matplotlib inline"
   ]
  },
  {
   "cell_type": "code",
   "execution_count": 2,
   "metadata": {},
   "outputs": [],
   "source": [
    "from sklearn.model_selection import train_test_split\n",
    "from sklearn.model_selection import RandomizedSearchCV\n",
    "from sklearn.metrics import mean_squared_error\n",
    "from xgboost import XGBRegressor\n",
    "from xgboost import plot_importance\n",
    "import xgboost as xgb"
   ]
  },
  {
   "cell_type": "code",
   "execution_count": 3,
   "metadata": {},
   "outputs": [],
   "source": [
    "from sklearn.ensemble import RandomForestRegressor\n",
    "## visualize one of the tree\n",
    "from sklearn.externals.six import StringIO  \n",
    "from IPython.display import Image  \n",
    "from sklearn.tree import export_graphviz\n",
    "import pydotplus\n",
    "import os\n",
    "os.environ['PATH'] = os.environ['PATH']+';'+os.environ['CONDA_PREFIX']+r\"\\Library\\bin\\graphviz\""
   ]
  },
  {
   "cell_type": "code",
   "execution_count": 4,
   "metadata": {},
   "outputs": [],
   "source": [
    "from sklearn.linear_model import (LinearRegression, Ridge, Lasso, LassoCV)"
   ]
  },
  {
   "cell_type": "code",
   "execution_count": 5,
   "metadata": {},
   "outputs": [],
   "source": [
    "from mlxtend.feature_selection import SequentialFeatureSelector as SFS\n",
    "from mlxtend.plotting import plot_sequential_feature_selection as plot_sfs"
   ]
  },
  {
   "cell_type": "code",
   "execution_count": 6,
   "metadata": {},
   "outputs": [],
   "source": [
    "## hyper parameter tuning\n",
    "from sklearn.model_selection import RandomizedSearchCV\n",
    "tuning = {\n",
    "    'max_depth': [7,10,13,15,17],\n",
    "    'max_features': [5,7,10,15,20,30],\n",
    "    'min_samples_split': [2,5,7,10],\n",
    "    'n_estimators': [10,30,50,70]\n",
    "}"
   ]
  },
  {
   "cell_type": "code",
   "execution_count": 7,
   "metadata": {},
   "outputs": [
    {
     "data": {
      "text/plain": [
       "<module 'Utils' from 'C:\\\\Users\\\\CSY\\\\Desktop\\\\potato-lankau\\\\scripts\\\\Utils.py'>"
      ]
     },
     "execution_count": 7,
     "metadata": {},
     "output_type": "execute_result"
    }
   ],
   "source": [
    "import Utils\n",
    "importlib.reload(Utils) ## update the Utils library"
   ]
  },
  {
   "cell_type": "code",
   "execution_count": 8,
   "metadata": {},
   "outputs": [
    {
     "data": {
      "text/plain": [
       "<module 'ML_model' from 'C:\\\\Users\\\\CSY\\\\Desktop\\\\potato-lankau\\\\scripts\\\\ML_model.py'>"
      ]
     },
     "execution_count": 8,
     "metadata": {},
     "output_type": "execute_result"
    }
   ],
   "source": [
    "import ML_model as ml\n",
    "importlib.reload(ml)"
   ]
  },
  {
   "cell_type": "code",
   "execution_count": 9,
   "metadata": {},
   "outputs": [],
   "source": [
    "meta = pd.read_csv(\"..//data//potatometadata_forClaudia.csv\")\n",
    "taxa = pd.read_csv(\"..//data//potatorar_forsubmission.csv\")\n",
    "taxa.columns.values[0] = \"FieldID\"\n",
    "taxa = taxa.rename(columns = {'FieldID':'FieldID'})"
   ]
  },
  {
   "cell_type": "code",
   "execution_count": 10,
   "metadata": {},
   "outputs": [],
   "source": [
    "meta_explore = meta[meta[\"Experiment\"] == 2015]\n",
    "meta_confirm = meta[meta[\"Experiment\"] == 2017]"
   ]
  },
  {
   "cell_type": "code",
   "execution_count": 11,
   "metadata": {},
   "outputs": [],
   "source": [
    "# drop non-numeric column\n",
    "meta_clean = meta.drop(['field name', 'diffCSscore'], axis=1)\n",
    "# In the new field, experiment conducted in 2015 is labeled as 0 whereas in 2017 as 1\n",
    "meta_clean['Experiment'] = meta_clean['Experiment'].replace(2015, 0)\n",
    "meta_clean['Experiment'] = meta_clean['Experiment'].replace(2017, 1)\n",
    "# drop all column related to yield\n",
    "yld_list = ['Mean.Control.Microbe', 'Mean.LowN.Microbe', 'varCtub', 'varNtub', 'invVar_Ctub',\n",
    "           'invVar_Ntub', 'Std.Err.Mean.Control.Microbe', 'Std.Err.Mean.LowN.Microbe', ]\n",
    "disease_unwanted = ['varCSscore', 'invVar_Csscore', 'seCSscore']\n",
    "meta_clean = meta_clean.drop(yld_list, axis=1)\n",
    "meta_clean = meta_clean.drop(disease_unwanted, axis=1)\n",
    "meta_clean_2 = meta_clean.set_index('FieldID')\n",
    "meta_clean_2_unnormalized = meta_clean_2.copy()"
   ]
  },
  {
   "cell_type": "code",
   "execution_count": 12,
   "metadata": {},
   "outputs": [],
   "source": [
    "yt_disease, gamma, eta, epsilon, lbda = Utils.johnson_transform(meta.diffCSscore)\n",
    "trans_param = {gamma, eta, epsilon, lbda}"
   ]
  },
  {
   "cell_type": "code",
   "execution_count": 13,
   "metadata": {},
   "outputs": [
    {
     "data": {
      "text/plain": [
       "FieldID\n",
       "1     0.015142\n",
       "2    -0.486763\n",
       "3    -0.154928\n",
       "4     1.195968\n",
       "5     0.814400\n",
       "6     0.303205\n",
       "7     0.744778\n",
       "8    -0.369501\n",
       "9     1.312314\n",
       "10    0.732274\n",
       "11   -0.339759\n",
       "12    0.279803\n",
       "13    2.075431\n",
       "27    1.424344\n",
       "28    0.093800\n",
       "29    0.326124\n",
       "30   -0.409760\n",
       "31   -0.252561\n",
       "32   -1.605319\n",
       "33   -1.605319\n",
       "36   -0.230164\n",
       "37    0.842071\n",
       "38   -1.605319\n",
       "40   -1.605319\n",
       "41    0.142125\n",
       "42   -1.605319\n",
       "Name: diffCSscore, dtype: float64"
      ]
     },
     "execution_count": 13,
     "metadata": {},
     "output_type": "execute_result"
    }
   ],
   "source": [
    "# Pay attention here. yt has the index of field id, whereas yt_disease is just a series of number starting at 0\n",
    "yt = yt_disease.copy()\n",
    "yt.index = meta_clean_2.index  \n",
    "yt"
   ]
  },
  {
   "cell_type": "code",
   "execution_count": 14,
   "metadata": {},
   "outputs": [],
   "source": [
    "taxa_clean = taxa.loc[:, (taxa != 0).any(axis=0)]  # drop columns contain only 0\n",
    "taxa_clean_2 = taxa_clean.set_index('FieldID')\n",
    "taxa_clean_2_unnormalized = taxa_clean_2.copy()"
   ]
  },
  {
   "cell_type": "code",
   "execution_count": 15,
   "metadata": {},
   "outputs": [
    {
     "data": {
      "text/html": [
       "<div>\n",
       "<style scoped>\n",
       "    .dataframe tbody tr th:only-of-type {\n",
       "        vertical-align: middle;\n",
       "    }\n",
       "\n",
       "    .dataframe tbody tr th {\n",
       "        vertical-align: top;\n",
       "    }\n",
       "\n",
       "    .dataframe thead th {\n",
       "        text-align: right;\n",
       "    }\n",
       "</style>\n",
       "<table border=\"1\" class=\"dataframe\">\n",
       "  <thead>\n",
       "    <tr style=\"text-align: right;\">\n",
       "      <th></th>\n",
       "      <th>Experiment</th>\n",
       "      <th>claderich0.1</th>\n",
       "      <th>cladediv0.1</th>\n",
       "      <th>claderich0.15</th>\n",
       "      <th>cladediv0.15</th>\n",
       "      <th>claderich0.2</th>\n",
       "      <th>cladediv0.2</th>\n",
       "      <th>claderich0.25</th>\n",
       "      <th>cladediv0.25</th>\n",
       "      <th>claderich0.3</th>\n",
       "      <th>...</th>\n",
       "      <th>claderich0.6</th>\n",
       "      <th>cladediv0.6</th>\n",
       "      <th>claderich0.7</th>\n",
       "      <th>cladediv0.7</th>\n",
       "      <th>claderich0.8</th>\n",
       "      <th>cladediv0.8</th>\n",
       "      <th>asvrich</th>\n",
       "      <th>asvdiv</th>\n",
       "      <th>PD</th>\n",
       "      <th>transformed disease score</th>\n",
       "    </tr>\n",
       "    <tr>\n",
       "      <th>FieldID</th>\n",
       "      <th></th>\n",
       "      <th></th>\n",
       "      <th></th>\n",
       "      <th></th>\n",
       "      <th></th>\n",
       "      <th></th>\n",
       "      <th></th>\n",
       "      <th></th>\n",
       "      <th></th>\n",
       "      <th></th>\n",
       "      <th></th>\n",
       "      <th></th>\n",
       "      <th></th>\n",
       "      <th></th>\n",
       "      <th></th>\n",
       "      <th></th>\n",
       "      <th></th>\n",
       "      <th></th>\n",
       "      <th></th>\n",
       "      <th></th>\n",
       "      <th></th>\n",
       "    </tr>\n",
       "  </thead>\n",
       "  <tbody>\n",
       "    <tr>\n",
       "      <th>1</th>\n",
       "      <td>0</td>\n",
       "      <td>22</td>\n",
       "      <td>2.276874</td>\n",
       "      <td>40</td>\n",
       "      <td>2.601291</td>\n",
       "      <td>69</td>\n",
       "      <td>2.899249</td>\n",
       "      <td>118</td>\n",
       "      <td>3.239466</td>\n",
       "      <td>167</td>\n",
       "      <td>...</td>\n",
       "      <td>339</td>\n",
       "      <td>4.887446</td>\n",
       "      <td>370</td>\n",
       "      <td>5.087528</td>\n",
       "      <td>395</td>\n",
       "      <td>5.226187</td>\n",
       "      <td>400</td>\n",
       "      <td>5.230529</td>\n",
       "      <td>31.699375</td>\n",
       "      <td>0.015142</td>\n",
       "    </tr>\n",
       "    <tr>\n",
       "      <th>2</th>\n",
       "      <td>0</td>\n",
       "      <td>20</td>\n",
       "      <td>2.206943</td>\n",
       "      <td>32</td>\n",
       "      <td>2.400265</td>\n",
       "      <td>51</td>\n",
       "      <td>2.768876</td>\n",
       "      <td>103</td>\n",
       "      <td>3.229995</td>\n",
       "      <td>161</td>\n",
       "      <td>...</td>\n",
       "      <td>321</td>\n",
       "      <td>4.898134</td>\n",
       "      <td>337</td>\n",
       "      <td>5.144046</td>\n",
       "      <td>354</td>\n",
       "      <td>5.209358</td>\n",
       "      <td>355</td>\n",
       "      <td>5.211097</td>\n",
       "      <td>26.603089</td>\n",
       "      <td>-0.486763</td>\n",
       "    </tr>\n",
       "  </tbody>\n",
       "</table>\n",
       "<p>2 rows × 31 columns</p>\n",
       "</div>"
      ],
      "text/plain": [
       "         Experiment  claderich0.1  cladediv0.1  claderich0.15  cladediv0.15  \\\n",
       "FieldID                                                                       \n",
       "1                 0            22     2.276874             40      2.601291   \n",
       "2                 0            20     2.206943             32      2.400265   \n",
       "\n",
       "         claderich0.2  cladediv0.2  claderich0.25  cladediv0.25  claderich0.3  \\\n",
       "FieldID                                                                         \n",
       "1                  69     2.899249            118      3.239466           167   \n",
       "2                  51     2.768876            103      3.229995           161   \n",
       "\n",
       "                   ...              claderich0.6  cladediv0.6  claderich0.7  \\\n",
       "FieldID            ...                                                        \n",
       "1                  ...                       339     4.887446           370   \n",
       "2                  ...                       321     4.898134           337   \n",
       "\n",
       "         cladediv0.7  claderich0.8  cladediv0.8  asvrich    asvdiv         PD  \\\n",
       "FieldID                                                                         \n",
       "1           5.087528           395     5.226187      400  5.230529  31.699375   \n",
       "2           5.144046           354     5.209358      355  5.211097  26.603089   \n",
       "\n",
       "         transformed disease score  \n",
       "FieldID                             \n",
       "1                         0.015142  \n",
       "2                        -0.486763  \n",
       "\n",
       "[2 rows x 31 columns]"
      ]
     },
     "execution_count": 15,
     "metadata": {},
     "output_type": "execute_result"
    }
   ],
   "source": [
    "clean = pd.concat([meta_clean_2_unnormalized.drop(['Experiment'], axis=1), taxa_clean_2_unnormalized], axis=1)\n",
    "total, mu_total, sd_total = Utils.normalization(clean)\n",
    "total = pd.concat([meta_clean_2_unnormalized.Experiment, total], axis=1)\n",
    "\n",
    "xtrain_d, xval_d, ytrain_d, yval_d = train_test_split(total, yt, test_size=0.2, random_state=1)\n",
    "\n",
    "xtrain_meta_d = xtrain_d[meta_clean_2.columns]\n",
    "xval_meta_d = xval_d[meta_clean_2.columns]\n",
    "xtrain_taxa_d = pd.concat([xtrain_meta_d.Experiment, xtrain_d[taxa_clean_2.columns]], axis=1)\n",
    "xval_taxa_d = pd.concat([xval_meta_d.Experiment, xval_d[taxa_clean_2.columns]], axis=1)\n",
    "\n",
    "meta_and_yt = pd.concat([meta_clean_2, yt], axis=1)\n",
    "\n",
    "meta_and_yt.columns.values[-1] = \"transformed disease score\"\n",
    "# meta_and_yt = taxa.rename(columns = {'FieldID':'FieldID'})\n",
    "meta_and_yt.head(2)"
   ]
  },
  {
   "cell_type": "code",
   "execution_count": null,
   "metadata": {},
   "outputs": [],
   "source": [
    "print(mu_total['claderich0.25'], sd_total['claderich0.25'])"
   ]
  },
  {
   "cell_type": "code",
   "execution_count": null,
   "metadata": {},
   "outputs": [],
   "source": []
  },
  {
   "cell_type": "code",
   "execution_count": 40,
   "metadata": {},
   "outputs": [
    {
     "data": {
      "text/html": [
       "<div>\n",
       "<style scoped>\n",
       "    .dataframe tbody tr th:only-of-type {\n",
       "        vertical-align: middle;\n",
       "    }\n",
       "\n",
       "    .dataframe tbody tr th {\n",
       "        vertical-align: top;\n",
       "    }\n",
       "\n",
       "    .dataframe thead th {\n",
       "        text-align: right;\n",
       "    }\n",
       "</style>\n",
       "<table border=\"1\" class=\"dataframe\">\n",
       "  <thead>\n",
       "    <tr style=\"text-align: right;\">\n",
       "      <th></th>\n",
       "      <th>claderich0.25</th>\n",
       "    </tr>\n",
       "    <tr>\n",
       "      <th>FieldID</th>\n",
       "      <th></th>\n",
       "    </tr>\n",
       "  </thead>\n",
       "  <tbody>\n",
       "    <tr>\n",
       "      <th>33</th>\n",
       "      <td>-0.008407</td>\n",
       "    </tr>\n",
       "    <tr>\n",
       "      <th>36</th>\n",
       "      <td>0.592663</td>\n",
       "    </tr>\n",
       "  </tbody>\n",
       "</table>\n",
       "</div>"
      ],
      "text/plain": [
       "         claderich0.25\n",
       "FieldID               \n",
       "33           -0.008407\n",
       "36            0.592663"
      ]
     },
     "execution_count": 40,
     "metadata": {},
     "output_type": "execute_result"
    }
   ],
   "source": [
    "## without change this to DataFrame, the result will be a pd.Series, which change the size of it\n",
    "xtrain_meta_lasso_d, xval_meta_lasso_d = pd.DataFrame(xtrain_meta_d['claderich0.25']), pd.DataFrame(xval_meta_d['claderich0.25'])\n",
    "xtrain_meta_lasso_d.head(2)"
   ]
  },
  {
   "cell_type": "code",
   "execution_count": 38,
   "metadata": {},
   "outputs": [],
   "source": [
    "# xtrain_meta_lasso_d[\"x_rich25_exp\"] = np.exp(xtrain_meta_lasso_d[\"claderich0.25\"])\n",
    "# xtrain_meta_lasso_d[\"x_rich25_poly2\"] = xtrain_meta_lasso_d[\"claderich0.25\"]**2"
   ]
  },
  {
   "cell_type": "code",
   "execution_count": 45,
   "metadata": {},
   "outputs": [],
   "source": [
    "from sklearn.linear_model import LinearRegression\n",
    "from sklearn.preprocessing import PolynomialFeatures"
   ]
  },
  {
   "cell_type": "code",
   "execution_count": 42,
   "metadata": {},
   "outputs": [
    {
     "name": "stdout",
     "output_type": "stream",
     "text": [
      "\n",
      "Linear Regression Model Report\n",
      "RMSE for training set: 0.18255864326462418\n",
      "RMSE for validation set: 0.25445049706901857\n"
     ]
    }
   ],
   "source": [
    "linear_meta_lasso1 = LinearRegression()\n",
    "linear_meta_lasso_coef1, linear_meta_lasso_intercept1 = \\\n",
    "    ml.linear_fit(linear_meta_lasso1, xtrain_meta_lasso_d, ytrain_d, xval_meta_lasso_d, yval_d, trans_param=trans_param, fs=(4, 4))"
   ]
  },
  {
   "cell_type": "code",
   "execution_count": 43,
   "metadata": {},
   "outputs": [
    {
     "data": {
      "text/plain": [
       "(array([-0.58709895]), -0.016717959122650436)"
      ]
     },
     "execution_count": 43,
     "metadata": {},
     "output_type": "execute_result"
    }
   ],
   "source": [
    "linear_meta_lasso_coef1, linear_meta_lasso_intercept1"
   ]
  },
  {
   "cell_type": "code",
   "execution_count": 46,
   "metadata": {},
   "outputs": [],
   "source": [
    "polynomial_features= PolynomialFeatures(degree=2)\n",
    "xtrain_meta_lasso_d_poly = polynomial_features.fit_transform(xtrain_meta_lasso_d)\n",
    "xtrain_val_lasso_d_poly = polynomial_features.fit_transform(xval_meta_lasso_d)"
   ]
  },
  {
   "cell_type": "code",
   "execution_count": 49,
   "metadata": {},
   "outputs": [
    {
     "name": "stdout",
     "output_type": "stream",
     "text": [
      "\n",
      "Linear Regression Model Report\n",
      "RMSE for training set: 0.18211444572224\n",
      "RMSE for validation set: 0.2572978810978879\n"
     ]
    }
   ],
   "source": [
    "linear_meta_lasso_coef2, linear_meta_lasso_intercept2 = \\\n",
    "    ml.linear_fit(linear_meta_lasso1, xtrain_meta_lasso_d_poly, ytrain_d, xtrain_val_lasso_d_poly, yval_d, trans_param=trans_param, fs=(4, 4))"
   ]
  },
  {
   "cell_type": "code",
   "execution_count": 32,
   "metadata": {},
   "outputs": [],
   "source": [
    "def model_visualization(ax, coef, intercpt, x, y, transformed, title='', xlab='x', ylab='y', title_font=15, lab_font=15, \n",
    "                        xlim=None):\n",
    "    line_x = np.linspace(min(x), max(x), 100)\n",
    "    if transformed:\n",
    "        line_y, lb = linear(line_x, coef, intercpt)\n",
    "    else:\n",
    "        line_y, lb = untransformed(line_x, coef, intercpt)\n",
    "    ax.plot(line_x, line_y, '-m', label=lb)\n",
    "    ax.scatter(x, y)\n",
    "    if xlim is None:\n",
    "        ax.set_xlim(min(min(x) - 0.4, 0))\n",
    "    else:\n",
    "        ax.set_xlim(xlim)\n",
    "    ax.set_title(title, fontsize=title_font)\n",
    "    ax.set_xlabel(xlab, fontsize=lab_font, color='#1C2833')\n",
    "    ax.set_ylabel(ylab, fontsize=lab_font, color='#1C2833')\n",
    "    ax.legend(loc='upper right')\n",
    "    ax.grid()"
   ]
  },
  {
   "cell_type": "code",
   "execution_count": 20,
   "metadata": {},
   "outputs": [],
   "source": [
    "def linear(linex, coef, intercpt):\n",
    "    liney = coef*linex + intercpt\n",
    "    if intercpt < 0:\n",
    "        lb = 'y=%.3fx-%.3f'% (coef, -intercpt)\n",
    "    else:\n",
    "        lb = 'y=%.3fx+%.3f'% (coef, intercpt)\n",
    "    return liney, lb"
   ]
  },
  {
   "cell_type": "code",
   "execution_count": 21,
   "metadata": {},
   "outputs": [],
   "source": [
    "def untransformed(line_x, coef, intercpt):\n",
    "    line_y = coef*line_x + intercpt\n",
    "    line_y = Utils.johnson_inverse(line_y, gamma, eta, epsilon, lbda)\n",
    "    b_ = intercpt - gamma\n",
    "    if b_ > 0:\n",
    "        lb = r'y=$%.3f*\\sinh(\\frac{%.3fx+%.3f}{%.3f})-%.3f$'% (lbda, coef, b_, eta, -epsilon)\n",
    "    else:\n",
    "        lb = r'y=$%.3f*\\sinh(\\frac{%.3fx-%.3f}{%.3f})-%.3f$'% (lbda, coef, -b_, eta, -epsilon)\n",
    "    return line_y, lb"
   ]
  },
  {
   "cell_type": "code",
   "execution_count": 23,
   "metadata": {
    "collapsed": true
   },
   "outputs": [
    {
     "data": {
      "text/plain": [
       "FieldID\n",
       "1    -0.379977\n",
       "2    -0.543905\n",
       "3    -0.489262\n",
       "4    -0.784333\n",
       "5    -0.838975\n",
       "6    -0.729690\n",
       "7    -1.057546\n",
       "8    -0.675047\n",
       "9    -0.445548\n",
       "10   -0.904546\n",
       "11   -0.817118\n",
       "12   -1.024760\n",
       "13   -0.653190\n",
       "27    0.789376\n",
       "28   -0.489262\n",
       "29    0.450592\n",
       "30   -0.379977\n",
       "31    0.811234\n",
       "32    1.663659\n",
       "33   -0.008407\n",
       "36    0.592663\n",
       "37    0.188307\n",
       "38    0.975162\n",
       "40    1.412303\n",
       "41    0.221093\n",
       "42    3.117154\n",
       "Name: claderich0.25, dtype: float64"
      ]
     },
     "execution_count": 23,
     "metadata": {},
     "output_type": "execute_result"
    }
   ],
   "source": [
    "x_rich25 = total['claderich0.25']\n",
    "x_rich25"
   ]
  },
  {
   "cell_type": "code",
   "execution_count": 29,
   "metadata": {},
   "outputs": [
    {
     "name": "stderr",
     "output_type": "stream",
     "text": [
      "C:\\Users\\CSY\\Anaconda3\\lib\\site-packages\\ipykernel_launcher.py:2: RuntimeWarning: invalid value encountered in log\n",
      "  \n"
     ]
    }
   ],
   "source": [
    "# x_rich25_exp = np.exp(x_rich25)\n",
    "# x_rich25_log = np.log(x_rich25)"
   ]
  },
  {
   "cell_type": "code",
   "execution_count": 34,
   "metadata": {},
   "outputs": [],
   "source": [
    "yt_exp = np.exp(yt)"
   ]
  },
  {
   "cell_type": "code",
   "execution_count": 36,
   "metadata": {},
   "outputs": [
    {
     "data": {
      "image/png": "[encoded data removed]",
      "text/plain": [
       "<Figure size 864x432 with 1 Axes>"
      ]
     },
     "metadata": {
      "needs_background": "light"
     },
     "output_type": "display_data"
    }
   ],
   "source": [
    "fig = plt.figure(figsize=(12, 6))\n",
    "fig.suptitle(\"Disease Score - Clade Richness 0.25\", fontsize=20)\n",
    "ax1 = fig.add_subplot(1,2,1)\n",
    "model_visualization(ax1, 0, 0, x_rich25, yt, transformed=True, title='Transformed', \n",
    "                    xlab='Normalized Clade Richness 0.25', ylab='Transformed Disease Score')"
   ]
  },
  {
   "cell_type": "code",
   "execution_count": null,
   "metadata": {},
   "outputs": [],
   "source": []
  }
 ],
 "metadata": {
  "kernelspec": {
   "display_name": "Python 3",
   "language": "python",
   "name": "python3"
  },
  "language_info": {
   "codemirror_mode": {
    "name": "ipython",
    "version": 3
   },
   "file_extension": ".py",
   "mimetype": "text/x-python",
   "name": "python",
   "nbconvert_exporter": "python",
   "pygments_lexer": "ipython3",
   "version": "3.7.1"
  }
 },
 "nbformat": 4,
 "nbformat_minor": 2
}
