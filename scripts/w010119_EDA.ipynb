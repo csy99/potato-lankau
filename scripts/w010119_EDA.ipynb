{
 "cells": [
  {
   "cell_type": "code",
   "execution_count": 1,
   "metadata": {},
   "outputs": [],
   "source": [
    "import numpy as np\n",
    "import pandas as pd\n",
    "import matplotlib.pyplot as plt\n",
    "import seaborn as sns"
   ]
  },
  {
   "cell_type": "code",
   "execution_count": 2,
   "metadata": {},
   "outputs": [],
   "source": [
    "import matplotlib \n",
    "matplotlib.rc('xtick', labelsize=15) \n",
    "matplotlib.rc('ytick', labelsize=15) \n",
    "%matplotlib inline"
   ]
  },
  {
   "cell_type": "code",
   "execution_count": 3,
   "metadata": {},
   "outputs": [
    {
     "data": {
      "text/html": [
       "<div>\n",
       "<style scoped>\n",
       "    .dataframe tbody tr th:only-of-type {\n",
       "        vertical-align: middle;\n",
       "    }\n",
       "\n",
       "    .dataframe tbody tr th {\n",
       "        vertical-align: top;\n",
       "    }\n",
       "\n",
       "    .dataframe thead th {\n",
       "        text-align: right;\n",
       "    }\n",
       "</style>\n",
       "<table border=\"1\" class=\"dataframe\">\n",
       "  <thead>\n",
       "    <tr style=\"text-align: right;\">\n",
       "      <th></th>\n",
       "      <th>FieldID</th>\n",
       "      <th>Experiment</th>\n",
       "      <th>field name</th>\n",
       "      <th>diffCSscore</th>\n",
       "      <th>Mean.Control.Microbe</th>\n",
       "      <th>Mean.LowN.Microbe</th>\n",
       "      <th>varCtub</th>\n",
       "      <th>varNtub</th>\n",
       "      <th>varCSscore</th>\n",
       "      <th>invVar_Ctub</th>\n",
       "      <th>...</th>\n",
       "      <th>cladediv0.55</th>\n",
       "      <th>claderich0.6</th>\n",
       "      <th>cladediv0.6</th>\n",
       "      <th>claderich0.7</th>\n",
       "      <th>cladediv0.7</th>\n",
       "      <th>claderich0.8</th>\n",
       "      <th>cladediv0.8</th>\n",
       "      <th>asvrich</th>\n",
       "      <th>asvdiv</th>\n",
       "      <th>PD</th>\n",
       "    </tr>\n",
       "  </thead>\n",
       "  <tbody>\n",
       "    <tr>\n",
       "      <th>0</th>\n",
       "      <td>1</td>\n",
       "      <td>2015</td>\n",
       "      <td>CF1</td>\n",
       "      <td>1.280556</td>\n",
       "      <td>247.26153</td>\n",
       "      <td>218.67840</td>\n",
       "      <td>75.443121</td>\n",
       "      <td>551.385549</td>\n",
       "      <td>1.148148</td>\n",
       "      <td>0.013255</td>\n",
       "      <td>...</td>\n",
       "      <td>4.835654</td>\n",
       "      <td>339</td>\n",
       "      <td>4.887446</td>\n",
       "      <td>370</td>\n",
       "      <td>5.087528</td>\n",
       "      <td>395</td>\n",
       "      <td>5.226187</td>\n",
       "      <td>400</td>\n",
       "      <td>5.230529</td>\n",
       "      <td>31.699375</td>\n",
       "    </tr>\n",
       "    <tr>\n",
       "      <th>1</th>\n",
       "      <td>2</td>\n",
       "      <td>2015</td>\n",
       "      <td>CF2</td>\n",
       "      <td>0.762103</td>\n",
       "      <td>221.60938</td>\n",
       "      <td>216.76044</td>\n",
       "      <td>2061.830163</td>\n",
       "      <td>329.386189</td>\n",
       "      <td>0.833558</td>\n",
       "      <td>0.000485</td>\n",
       "      <td>...</td>\n",
       "      <td>4.842094</td>\n",
       "      <td>321</td>\n",
       "      <td>4.898134</td>\n",
       "      <td>337</td>\n",
       "      <td>5.144046</td>\n",
       "      <td>354</td>\n",
       "      <td>5.209358</td>\n",
       "      <td>355</td>\n",
       "      <td>5.211097</td>\n",
       "      <td>26.603089</td>\n",
       "    </tr>\n",
       "    <tr>\n",
       "      <th>2</th>\n",
       "      <td>3</td>\n",
       "      <td>2015</td>\n",
       "      <td>CF4</td>\n",
       "      <td>1.089286</td>\n",
       "      <td>260.05795</td>\n",
       "      <td>209.17201</td>\n",
       "      <td>382.961433</td>\n",
       "      <td>853.913357</td>\n",
       "      <td>0.317602</td>\n",
       "      <td>0.002611</td>\n",
       "      <td>...</td>\n",
       "      <td>4.153512</td>\n",
       "      <td>286</td>\n",
       "      <td>4.232498</td>\n",
       "      <td>310</td>\n",
       "      <td>4.453618</td>\n",
       "      <td>340</td>\n",
       "      <td>4.567909</td>\n",
       "      <td>340</td>\n",
       "      <td>4.567909</td>\n",
       "      <td>30.883599</td>\n",
       "    </tr>\n",
       "    <tr>\n",
       "      <th>3</th>\n",
       "      <td>4</td>\n",
       "      <td>2015</td>\n",
       "      <td>CF5</td>\n",
       "      <td>3.208333</td>\n",
       "      <td>238.36716</td>\n",
       "      <td>233.20952</td>\n",
       "      <td>452.336408</td>\n",
       "      <td>214.991855</td>\n",
       "      <td>9.159722</td>\n",
       "      <td>0.002211</td>\n",
       "      <td>...</td>\n",
       "      <td>4.511198</td>\n",
       "      <td>249</td>\n",
       "      <td>4.570936</td>\n",
       "      <td>264</td>\n",
       "      <td>4.752686</td>\n",
       "      <td>274</td>\n",
       "      <td>4.784318</td>\n",
       "      <td>274</td>\n",
       "      <td>4.784318</td>\n",
       "      <td>23.384369</td>\n",
       "    </tr>\n",
       "    <tr>\n",
       "      <th>4</th>\n",
       "      <td>5</td>\n",
       "      <td>2015</td>\n",
       "      <td>DO1</td>\n",
       "      <td>2.450000</td>\n",
       "      <td>286.36653</td>\n",
       "      <td>252.37100</td>\n",
       "      <td>941.434313</td>\n",
       "      <td>249.128362</td>\n",
       "      <td>4.196667</td>\n",
       "      <td>0.001062</td>\n",
       "      <td>...</td>\n",
       "      <td>4.403219</td>\n",
       "      <td>142</td>\n",
       "      <td>4.414700</td>\n",
       "      <td>154</td>\n",
       "      <td>4.602408</td>\n",
       "      <td>159</td>\n",
       "      <td>4.638410</td>\n",
       "      <td>159</td>\n",
       "      <td>4.638410</td>\n",
       "      <td>19.468832</td>\n",
       "    </tr>\n",
       "  </tbody>\n",
       "</table>\n",
       "<p>5 rows × 44 columns</p>\n",
       "</div>"
      ],
      "text/plain": [
       "   FieldID  Experiment field name  diffCSscore  Mean.Control.Microbe  \\\n",
       "0        1        2015        CF1     1.280556             247.26153   \n",
       "1        2        2015        CF2     0.762103             221.60938   \n",
       "2        3        2015        CF4     1.089286             260.05795   \n",
       "3        4        2015        CF5     3.208333             238.36716   \n",
       "4        5        2015        DO1     2.450000             286.36653   \n",
       "\n",
       "   Mean.LowN.Microbe      varCtub     varNtub  varCSscore  invVar_Ctub  \\\n",
       "0          218.67840    75.443121  551.385549    1.148148     0.013255   \n",
       "1          216.76044  2061.830163  329.386189    0.833558     0.000485   \n",
       "2          209.17201   382.961433  853.913357    0.317602     0.002611   \n",
       "3          233.20952   452.336408  214.991855    9.159722     0.002211   \n",
       "4          252.37100   941.434313  249.128362    4.196667     0.001062   \n",
       "\n",
       "     ...      cladediv0.55  claderich0.6  cladediv0.6  claderich0.7  \\\n",
       "0    ...          4.835654           339     4.887446           370   \n",
       "1    ...          4.842094           321     4.898134           337   \n",
       "2    ...          4.153512           286     4.232498           310   \n",
       "3    ...          4.511198           249     4.570936           264   \n",
       "4    ...          4.403219           142     4.414700           154   \n",
       "\n",
       "   cladediv0.7  claderich0.8  cladediv0.8  asvrich    asvdiv         PD  \n",
       "0     5.087528           395     5.226187      400  5.230529  31.699375  \n",
       "1     5.144046           354     5.209358      355  5.211097  26.603089  \n",
       "2     4.453618           340     4.567909      340  4.567909  30.883599  \n",
       "3     4.752686           274     4.784318      274  4.784318  23.384369  \n",
       "4     4.602408           159     4.638410      159  4.638410  19.468832  \n",
       "\n",
       "[5 rows x 44 columns]"
      ]
     },
     "execution_count": 3,
     "metadata": {},
     "output_type": "execute_result"
    }
   ],
   "source": [
    "meta = pd.read_csv(\"data//potatometadata_forClaudia.csv\")\n",
    "meta.head()"
   ]
  },
  {
   "cell_type": "code",
   "execution_count": 4,
   "metadata": {},
   "outputs": [
    {
     "name": "stdout",
     "output_type": "stream",
     "text": [
      "<class 'pandas.core.frame.DataFrame'>\n",
      "RangeIndex: 26 entries, 0 to 25\n",
      "Data columns (total 44 columns):\n",
      "FieldID                         26 non-null int64\n",
      "Experiment                      26 non-null int64\n",
      "field name                      26 non-null object\n",
      "diffCSscore                     26 non-null float64\n",
      "Mean.Control.Microbe            26 non-null float64\n",
      "Mean.LowN.Microbe               26 non-null float64\n",
      "varCtub                         26 non-null float64\n",
      "varNtub                         26 non-null float64\n",
      "varCSscore                      26 non-null float64\n",
      "invVar_Ctub                     26 non-null float64\n",
      "invVar_Ntub                     26 non-null float64\n",
      "invVar_Csscore                  23 non-null float64\n",
      "Std.Err.Mean.Control.Microbe    26 non-null float64\n",
      "Std.Err.Mean.LowN.Microbe       26 non-null float64\n",
      "seCSscore                       26 non-null float64\n",
      "claderich0.1                    26 non-null int64\n",
      "cladediv0.1                     26 non-null float64\n",
      "claderich0.15                   26 non-null int64\n",
      "cladediv0.15                    26 non-null float64\n",
      "claderich0.2                    26 non-null int64\n",
      "cladediv0.2                     26 non-null float64\n",
      "claderich0.25                   26 non-null int64\n",
      "cladediv0.25                    26 non-null float64\n",
      "claderich0.3                    26 non-null int64\n",
      "cladediv0.3                     26 non-null float64\n",
      "claderich0.35                   26 non-null int64\n",
      "cladediv0.35                    26 non-null float64\n",
      "claderich0.4                    26 non-null int64\n",
      "cladediv0.4                     26 non-null float64\n",
      "claderich0.45                   26 non-null int64\n",
      "cladediv0.45                    26 non-null float64\n",
      "claderich0.5                    26 non-null int64\n",
      "cladediv0.5                     26 non-null float64\n",
      "claderich0.55                   26 non-null int64\n",
      "cladediv0.55                    26 non-null float64\n",
      "claderich0.6                    26 non-null int64\n",
      "cladediv0.6                     26 non-null float64\n",
      "claderich0.7                    26 non-null int64\n",
      "cladediv0.7                     26 non-null float64\n",
      "claderich0.8                    26 non-null int64\n",
      "cladediv0.8                     26 non-null float64\n",
      "asvrich                         26 non-null int64\n",
      "asvdiv                          26 non-null float64\n",
      "PD                              26 non-null float64\n",
      "dtypes: float64(27), int64(16), object(1)\n",
      "memory usage: 9.0+ KB\n"
     ]
    }
   ],
   "source": [
    "meta.info()"
   ]
  },
  {
   "cell_type": "code",
   "execution_count": 5,
   "metadata": {},
   "outputs": [],
   "source": [
    "meta_explore = meta[meta[\"Experiment\"] == 2015]\n",
    "meta_confirm = meta[meta[\"Experiment\"] == 2017]"
   ]
  },
  {
   "cell_type": "code",
   "execution_count": 6,
   "metadata": {},
   "outputs": [
    {
     "name": "stderr",
     "output_type": "stream",
     "text": [
      "C:\\Users\\CSY\\Anaconda3\\lib\\site-packages\\ipykernel_launcher.py:1: SettingWithCopyWarning: \n",
      "A value is trying to be set on a copy of a slice from a DataFrame.\n",
      "Try using .loc[row_indexer,col_indexer] = value instead\n",
      "\n",
      "See the caveats in the documentation: http://pandas.pydata.org/pandas-docs/stable/indexing.html#indexing-view-versus-copy\n",
      "  \"\"\"Entry point for launching an IPython kernel.\n"
     ]
    },
    {
     "data": {
      "text/plain": [
       "count    13.000000\n",
       "mean     26.593609\n",
       "std      19.085474\n",
       "min      -1.451870\n",
       "25%      16.398830\n",
       "50%      24.350290\n",
       "75%      33.995530\n",
       "max      59.625440\n",
       "Name: Nmeandiff, dtype: float64"
      ]
     },
     "execution_count": 6,
     "metadata": {},
     "output_type": "execute_result"
    }
   ],
   "source": [
    "meta_explore[\"Nmeandiff\"] = meta_explore[\"Mean.Control.Microbe\"] - meta_explore[\"Mean.LowN.Microbe\"]\n",
    "meta_explore[\"Nmeandiff\"].describe()"
   ]
  },
  {
   "cell_type": "code",
   "execution_count": 7,
   "metadata": {},
   "outputs": [
    {
     "name": "stderr",
     "output_type": "stream",
     "text": [
      "C:\\Users\\CSY\\Anaconda3\\lib\\site-packages\\ipykernel_launcher.py:1: SettingWithCopyWarning: \n",
      "A value is trying to be set on a copy of a slice from a DataFrame.\n",
      "Try using .loc[row_indexer,col_indexer] = value instead\n",
      "\n",
      "See the caveats in the documentation: http://pandas.pydata.org/pandas-docs/stable/indexing.html#indexing-view-versus-copy\n",
      "  \"\"\"Entry point for launching an IPython kernel.\n"
     ]
    },
    {
     "data": {
      "text/plain": [
       "count    13.000000\n",
       "mean     45.510846\n",
       "std      27.350912\n",
       "min     -19.670000\n",
       "25%      32.430000\n",
       "50%      48.460000\n",
       "75%      55.910000\n",
       "max      85.320000\n",
       "Name: Nmeandiff, dtype: float64"
      ]
     },
     "execution_count": 7,
     "metadata": {},
     "output_type": "execute_result"
    }
   ],
   "source": [
    "meta_confirm[\"Nmeandiff\"] = meta_confirm[\"Mean.Control.Microbe\"] - meta_confirm[\"Mean.LowN.Microbe\"]\n",
    "meta_confirm[\"Nmeandiff\"].describe()"
   ]
  },
  {
   "cell_type": "code",
   "execution_count": 12,
   "metadata": {},
   "outputs": [],
   "source": [
    "def plot_yield_diff(ax, df, title):\n",
    "    barWidth = 0.25\n",
    "    # set height of bar\n",
    "    bars1 = df[\"Mean.Control.Microbe\"]\n",
    "    bars2 = df[\"Mean.LowN.Microbe\"]\n",
    "    bars3 = df[\"Nmeandiff\"]\n",
    "\n",
    "    # Set position of bar on X axis\n",
    "    r1 = np.arange(len(bars1))\n",
    "    r2 = [x + barWidth for x in r1]\n",
    "    r3 = [x + barWidth for x in r2]\n",
    "\n",
    "    # Make the plot\n",
    "    ax.bar(r1, bars1, color='#2d7f5e', width=barWidth, edgecolor='white', label='high nut')\n",
    "    ax.bar(r2, bars2, color='#557f2d', width=barWidth, edgecolor='white', label='low nut')\n",
    "    ax.bar(r3, bars3, color='#7f6d5f', width=barWidth, edgecolor='white', label='diff')\n",
    "\n",
    "    # Add xticks on the middle of the group bars\n",
    "    ax.set_xlabel('FieldId', fontweight='bold', fontsize=20)\n",
    "    ax.set_ylabel('Tuber Yield', fontsize=20)\n",
    "    ax.set_xticks([r + barWidth for r in range(len(bars1))], minor=False)\n",
    "    ax.set_xticklabels(df.FieldID)\n",
    "    legend = ax.legend(loc='upper center', bbox_to_anchor=(0.5, 1.3), ncol=3, shadow=False, fontsize=14)\n",
    "    ax.set_title(title, size=22)"
   ]
  },
  {
   "cell_type": "code",
   "execution_count": 14,
   "metadata": {},
   "outputs": [
    {
     "data": {
      "image/png": "[encoded data removed]",
      "text/plain": [
       "<Figure size 1080x360 with 2 Axes>"
      ]
     },
     "metadata": {
      "needs_background": "light"
     },
     "output_type": "display_data"
    }
   ],
   "source": [
    "fig = plt.figure(figsize=(15, 5))\n",
    "ax1 = fig.add_subplot(1,2,1)\n",
    "plot_yield_diff(ax1, meta_explore, \"Exploratory Exp\")\n",
    "ax2 = fig.add_subplot(1,2,2,sharey=ax1)\n",
    "plot_yield_diff(ax2, meta_confirm, \"Confirmatory Exp\")"
   ]
  },
  {
   "cell_type": "code",
   "execution_count": 36,
   "metadata": {},
   "outputs": [],
   "source": [
    "def scatter_disease(ax, df, title):\n",
    "    ax.scatter(df.FieldID, df.diffCSscore)\n",
    "    ax.set_xlabel('FieldId', fontsize=15)\n",
    "    ax.set_xticks(df.FieldID)\n",
    "    ax.set_ylabel('Disease Severity', fontsize=15)\n",
    "    ax.set_title(title, size=20)"
   ]
  },
  {
   "cell_type": "code",
   "execution_count": 44,
   "metadata": {},
   "outputs": [
    {
     "data": {
      "image/png": "[encoded data removed]",
      "text/plain": [
       "<Figure size 1080x360 with 2 Axes>"
      ]
     },
     "metadata": {
      "needs_background": "light"
     },
     "output_type": "display_data"
    }
   ],
   "source": [
    "fig2 = plt.figure(figsize=(15, 5))\n",
    "fig2.suptitle(\"Measure of disease severity\", fontsize=25)\n",
    "ax21 = fig2.add_subplot(1,2,1)\n",
    "scatter_disease(ax21, meta_explore, \"Exploratory Exp\")\n",
    "ax22 = fig2.add_subplot(1,2,2,sharey=ax21)\n",
    "scatter_disease(ax22, meta_confirm, \"Confirmatory Exp\")\n",
    "fig2.tight_layout()\n",
    "fig2.subplots_adjust(top=0.85)\n",
    "plt.show()"
   ]
  },
  {
   "cell_type": "code",
   "execution_count": null,
   "metadata": {},
   "outputs": [],
   "source": []
  },
  {
   "cell_type": "code",
   "execution_count": null,
   "metadata": {},
   "outputs": [],
   "source": []
  }
 ],
 "metadata": {
  "kernelspec": {
   "display_name": "Python 3",
   "language": "python",
   "name": "python3"
  },
  "language_info": {
   "codemirror_mode": {
    "name": "ipython",
    "version": 3
   },
   "file_extension": ".py",
   "mimetype": "text/x-python",
   "name": "python",
   "nbconvert_exporter": "python",
   "pygments_lexer": "ipython3",
   "version": "3.7.6"
  }
 },
 "nbformat": 4,
 "nbformat_minor": 2
}
